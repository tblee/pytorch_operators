{
 "cells": [
  {
   "cell_type": "code",
   "execution_count": 1,
   "metadata": {},
   "outputs": [],
   "source": [
    "import torch\n",
    "import torch.nn as nn\n",
    "import torch.nn.functional as F\n",
    "from torch.autograd import Variable\n",
    "\n",
    "import numpy as np\n",
    "from tqdm import tqdm"
   ]
  },
  {
   "cell_type": "code",
   "execution_count": 58,
   "metadata": {},
   "outputs": [],
   "source": [
    "class TorchLogisticRegressionUnit(nn.Module):\n",
    "    def __init__(self, input_dim, num_classes, hidden_dim=32):\n",
    "        super(TorchLogisticRegressionUnit, self).__init__()\n",
    "        self.input_dim = input_dim\n",
    "        self.num_classes = num_classes\n",
    "        self.hidden_dim = hidden_dim\n",
    "        \n",
    "        ## Define operators withing the regressor\n",
    "        self.input_layer = nn.Linear(self.input_dim, self.hidden_dim)\n",
    "        self.output_layer = nn.Linear(self.hidden_dim, self.num_classes)\n",
    "        \n",
    "    def forward(self, x):\n",
    "        hidden = self.input_layer(x)\n",
    "        output = self.output_layer(F.relu(hidden))\n",
    "        return output"
   ]
  },
  {
   "cell_type": "code",
   "execution_count": 65,
   "metadata": {},
   "outputs": [],
   "source": [
    "class TorchLogisticRegression(object):\n",
    "    def __init__(self, input_dim, num_classes, lr=5e-3, n_epoch=1000):\n",
    "        self.input_dim = input_dim\n",
    "        self.num_classes = num_classes\n",
    "        self.lr = lr\n",
    "        self.n_epoch = n_epoch\n",
    "        \n",
    "        self.model = TorchLogisticRegressionUnit(self.input_dim, self.num_classes)\n",
    "        self.training_loss = []\n",
    "    \n",
    "    def fit(self, x_input, y_input):\n",
    "        x = Variable(torch.from_numpy(x_input).float(), requires_grad=True)\n",
    "        y = Variable(torch.from_numpy(y_input), requires_grad=False)\n",
    "        \n",
    "        ## Train the model\n",
    "        self.model.float()\n",
    "        #self.model = self.model.train()\n",
    "        cross_entropy = nn.CrossEntropyLoss()\n",
    "        optimizer = torch.optim.Adam(self.model.parameters(), lr = self.lr)\n",
    "        \n",
    "        for epoch in tqdm(range(self.n_epoch)):\n",
    "            optimizer.zero_grad()\n",
    "            output = self.model(x)\n",
    "            loss = cross_entropy(output, y)\n",
    "            loss.backward()\n",
    "            optimizer.step()\n",
    "            \n",
    "            if epoch % 50 == 0:\n",
    "                self.training_loss.append(loss.item())\n",
    "    \n",
    "    def get_training_loss(self):\n",
    "        return self.training_loss\n",
    "    \n",
    "    def predict_proba(self, x_input):\n",
    "        x = Variable(torch.from_numpy(x_input).float())\n",
    "        \n",
    "        ## Generate predictions\n",
    "        self.model = self.model.eval()\n",
    "        \n",
    "        raw_scores = self.model(x)\n",
    "        return F.softmax(raw_scores, dim=1)"
   ]
  },
  {
   "cell_type": "code",
   "execution_count": 66,
   "metadata": {},
   "outputs": [
    {
     "name": "stderr",
     "output_type": "stream",
     "text": [
      "100%|██████████| 1000/1000 [00:01<00:00, 806.11it/s]\n"
     ]
    }
   ],
   "source": [
    "n = 500\n",
    "p = 30\n",
    "n_classes = 2\n",
    "\n",
    "x = np.random.rand(n, p)\n",
    "y = np.random.choice(range(n_classes), n, replace=True)\n",
    "\n",
    "torch_lr_model = TorchLogisticRegression(p, n_classes)\n",
    "torch_lr_model.fit(x, y)"
   ]
  },
  {
   "cell_type": "code",
   "execution_count": 67,
   "metadata": {},
   "outputs": [
    {
     "data": {
      "text/plain": [
       "[0.717403769493103,\n",
       " 0.6401932239532471,\n",
       " 0.5226828455924988,\n",
       " 0.35475459694862366,\n",
       " 0.23768533766269684,\n",
       " 0.16417427361011505,\n",
       " 0.11613168567419052,\n",
       " 0.08388861268758774,\n",
       " 0.06195544824004173,\n",
       " 0.04668174684047699,\n",
       " 0.03577420487999916,\n",
       " 0.02801681123673916,\n",
       " 0.022480670362710953,\n",
       " 0.018452966585755348,\n",
       " 0.015361545607447624,\n",
       " 0.012925881892442703,\n",
       " 0.01102785300463438,\n",
       " 0.009512461721897125,\n",
       " 0.008281735703349113,\n",
       " 0.007249363232403994]"
      ]
     },
     "execution_count": 67,
     "metadata": {},
     "output_type": "execute_result"
    }
   ],
   "source": [
    "torch_lr_model.get_training_loss()"
   ]
  },
  {
   "cell_type": "code",
   "execution_count": null,
   "metadata": {},
   "outputs": [],
   "source": []
  }
 ],
 "metadata": {
  "kernelspec": {
   "display_name": "Python 3",
   "language": "python",
   "name": "python3"
  },
  "language_info": {
   "codemirror_mode": {
    "name": "ipython",
    "version": 3
   },
   "file_extension": ".py",
   "mimetype": "text/x-python",
   "name": "python",
   "nbconvert_exporter": "python",
   "pygments_lexer": "ipython3",
   "version": "3.6.2"
  }
 },
 "nbformat": 4,
 "nbformat_minor": 2
}
